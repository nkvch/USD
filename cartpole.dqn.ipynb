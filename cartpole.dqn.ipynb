{
 "cells": [
  {
   "cell_type": "code",
   "execution_count": 1,
   "metadata": {},
   "outputs": [],
   "source": [
    "import torch, numpy as np\n",
    "import gymnasium as gym"
   ]
  },
  {
   "cell_type": "code",
   "execution_count": 2,
   "metadata": {},
   "outputs": [],
   "source": [
    "env = gym.make('CartPole-v1')"
   ]
  },
  {
   "cell_type": "code",
   "execution_count": 3,
   "metadata": {},
   "outputs": [],
   "source": [
    "action_number = env.action_space.n"
   ]
  },
  {
   "cell_type": "code",
   "execution_count": 4,
   "metadata": {},
   "outputs": [],
   "source": [
    "state_size = env.observation_space.shape[0]"
   ]
  },
  {
   "cell_type": "code",
   "execution_count": 5,
   "metadata": {},
   "outputs": [],
   "source": [
    "gamma = 0.99\n",
    "lr = 5e-5\n",
    "hid_layer1 = 64\n",
    "hid_layer2 = 128\n",
    "batch_size = 32\n",
    "q_target_update_frequency = 1000\n",
    "\n",
    "epsiolon_start = 1.0\n",
    "epsilon_end = 0.02\n",
    "epsilon_decay = 10000"
   ]
  },
  {
   "cell_type": "code",
   "execution_count": 6,
   "metadata": {},
   "outputs": [],
   "source": [
    "device = torch.device('cuda:0' if torch.cuda.is_available() else 'cpu')"
   ]
  },
  {
   "cell_type": "code",
   "execution_count": 7,
   "metadata": {},
   "outputs": [],
   "source": [
    "Q = torch.nn.Sequential(\n",
    "    torch.nn.Linear(state_size, hid_layer1),\n",
    "    torch.nn.ReLU(),\n",
    "    torch.nn.Linear(hid_layer1, hid_layer2),\n",
    "    torch.nn.ReLU(),\n",
    "    torch.nn.Linear(hid_layer2, action_number)\n",
    ").to(device)\n",
    "\n",
    "Q_target = torch.nn.Sequential(\n",
    "    torch.nn.Linear(state_size, hid_layer1),\n",
    "    torch.nn.ReLU(),\n",
    "    torch.nn.Linear(hid_layer1, hid_layer2),\n",
    "    torch.nn.ReLU(),\n",
    "    torch.nn.Linear(hid_layer2, action_number)\n",
    ").to(device)"
   ]
  },
  {
   "cell_type": "code",
   "execution_count": 8,
   "metadata": {},
   "outputs": [],
   "source": [
    "optim = torch.optim.Adam(Q.parameters(), lr=lr)\n",
    "# scheduler = torch.optim.lr_scheduler.ReduceLROnPlateau(optim, patience=100, verbose=True)"
   ]
  },
  {
   "cell_type": "code",
   "execution_count": 519,
   "metadata": {},
   "outputs": [],
   "source": [
    "\n",
    "# class ReplayBuffer:\n",
    "#     def __init__(self, capacity, min_replay_size):\n",
    "#         self.capacity = capacity\n",
    "#         self.min_replay_size = min_replay_size\n",
    "#         self.buffer = [None for i in range(capacity)]\n",
    "#         self.position = 0\n",
    "\n",
    "#     def push(self, state, action, reward, next_state, done):\n",
    "#         self.buffer[self.position] = (state, action, reward, next_state, done)\n",
    "#         self.position = (self.position + 1) % self.capacity\n",
    "\n",
    "#     def sample(self, batch_size):\n",
    "#         # filter out the None\n",
    "#         return random.sample([i for i in self.buffer if i is not None], batch_size)\n",
    "\n",
    "#     def __len__(self):\n",
    "#         return len(self.buffer)\n",
    "    \n",
    "#     def is_ready(self):\n",
    "#         return len([i for i in self.buffer if i is not None]) >= self.min_replay_size\n",
    "        "
   ]
  },
  {
   "cell_type": "code",
   "execution_count": 9,
   "metadata": {},
   "outputs": [],
   "source": [
    "from collections import deque\n",
    "import random\n",
    "\n",
    "class ReplayBuffer:\n",
    "    def __init__(self, capacity, min_replay_size):\n",
    "        self.capacity = capacity\n",
    "        self.min_replay_size = min_replay_size\n",
    "        self.buffer = deque(maxlen=capacity)\n",
    "\n",
    "    def push(self, state, action, reward, next_state, done):\n",
    "        self.buffer.append((state, action, reward, next_state, done))\n",
    "\n",
    "    def sample(self, batch_size):\n",
    "        return random.sample(self.buffer, batch_size)\n",
    "\n",
    "    def __len__(self):\n",
    "        return len(self.buffer)\n",
    "    \n",
    "    def is_ready(self):\n",
    "        return len(self.buffer) >= self.min_replay_size"
   ]
  },
  {
   "cell_type": "code",
   "execution_count": 10,
   "metadata": {},
   "outputs": [],
   "source": [
    "replay_buffer = ReplayBuffer(50000, 1000)"
   ]
  },
  {
   "cell_type": "code",
   "execution_count": 11,
   "metadata": {},
   "outputs": [],
   "source": [
    "def step(state, randomness):\n",
    "    risk = random.random() <= randomness\n",
    "\n",
    "    q = Q(torch.tensor(state, dtype=torch.float).to(device)).to(device)\n",
    "\n",
    "    action = random.choice([possible for possible in range(action_number)]) if risk \\\n",
    "        else torch.argmax(q).item()\n",
    "\n",
    "    new_state, r, done, _, _ = env.step(action)\n",
    "\n",
    "    replay_buffer.push(state, action, r, new_state, done)\n",
    "\n",
    "    if not replay_buffer.is_ready():\n",
    "        return done, None\n",
    "\n",
    "    batch = replay_buffer.sample(batch_size)\n",
    "\n",
    "    states = torch.tensor([i[0] for i in batch], dtype=torch.float).to(device)\n",
    "    actions = torch.tensor([i[1] for i in batch], dtype=torch.long).to(device)\n",
    "    rewards = torch.tensor([i[2] for i in batch], dtype=torch.float).to(device)\n",
    "    new_states = torch.tensor([i[3] for i in batch], dtype=torch.float).to(device)\n",
    "    dones = torch.tensor([i[4] for i in batch], dtype=torch.int).to(device)\n",
    "\n",
    "    q = Q(states).to(device)\n",
    "    q_target = Q_target(new_states).to(device)\n",
    "\n",
    "    y = rewards + (1 - dones)*(gamma*torch.max(q_target, dim=1, keepdim=True)[0])\n",
    "\n",
    "    q_actions = torch.gather(input=q, dim=1, index=actions.unsqueeze(-1))\n",
    "\n",
    "    loss = torch.nn.functional.smooth_l1_loss(q_actions, y)\n",
    "\n",
    "    optim.zero_grad()\n",
    "    loss.backward()\n",
    "    optim.step()\n",
    "    # scheduler.step(loss)\n",
    "\n",
    "    return done, loss.item()  "
   ]
  },
  {
   "cell_type": "code",
   "execution_count": 12,
   "metadata": {},
   "outputs": [],
   "source": [
    "def init_population():\n",
    "    state = env.reset()[0]\n",
    "    while not replay_buffer.is_ready():\n",
    "        done, _ = step(state, 1.0)\n",
    "        if done:\n",
    "            state = env.reset()[0]"
   ]
  },
  {
   "cell_type": "code",
   "execution_count": null,
   "metadata": {},
   "outputs": [],
   "source": []
  },
  {
   "cell_type": "code",
   "execution_count": 13,
   "metadata": {},
   "outputs": [],
   "source": [
    "def run_episode(curr_steps):\n",
    "    episode_steps = 0\n",
    "    episode_avg_loss = 0\n",
    "\n",
    "    state = env.reset()[0]\n",
    "\n",
    "    done = False\n",
    "\n",
    "    while not done:\n",
    "        step_randomness = np.interp(curr_steps + episode_steps, [0, epsilon_decay], [epsiolon_start, epsilon_end])\n",
    "        done, loss = step(state, step_randomness)\n",
    "        episode_steps += 1\n",
    "\n",
    "        if (curr_steps + episode_steps) % q_target_update_frequency == 0:\n",
    "            Q_target.load_state_dict(Q.state_dict())\n",
    "\n",
    "    episode_avg_loss = (episode_avg_loss * episode_steps + loss) / (episode_steps + 1)\n",
    "\n",
    "    return episode_steps, episode_avg_loss"
   ]
  },
  {
   "cell_type": "code",
   "execution_count": 17,
   "metadata": {},
   "outputs": [
    {
     "data": {
      "image/png": "[encoded data removed]",
      "text/plain": [
       "<Figure size 640x480 with 1 Axes>"
      ]
     },
     "metadata": {},
     "output_type": "display_data"
    },
    {
     "name": "stderr",
     "output_type": "stream",
     "text": [
      "C:\\Users\\nkvch\\AppData\\Local\\Temp\\ipykernel_15680\\3932050584.py:31: UserWarning: Using a target size (torch.Size([32, 32])) that is different to the input size (torch.Size([32, 1])). This will likely lead to incorrect results due to broadcasting. Please ensure they have the same size.\n",
      "  loss = torch.nn.functional.smooth_l1_loss(q_actions, y)\n"
     ]
    },
    {
     "name": "stdout",
     "output_type": "stream",
     "text": [
      "1\n",
      "2\n",
      "3\n",
      "4\n",
      "5\n",
      "6\n",
      "7\n",
      "8\n",
      "9\n",
      "10\n",
      "11\n",
      "12\n",
      "13\n",
      "14\n",
      "15\n",
      "16\n",
      "17\n",
      "18\n",
      "19\n",
      "20\n",
      "21\n",
      "22\n",
      "23\n",
      "24\n",
      "25\n",
      "26\n",
      "27\n",
      "28\n",
      "29\n",
      "30\n",
      "31\n",
      "32\n",
      "33\n",
      "34\n",
      "35\n",
      "36\n",
      "37\n",
      "38\n",
      "39\n",
      "40\n",
      "41\n",
      "42\n",
      "43\n",
      "44\n",
      "45\n",
      "46\n",
      "47\n",
      "48\n",
      "49\n",
      "50\n",
      "51\n",
      "52\n",
      "53\n",
      "54\n",
      "55\n",
      "56\n",
      "57\n",
      "58\n",
      "59\n",
      "60\n",
      "61\n",
      "62\n",
      "63\n",
      "64\n",
      "65\n",
      "66\n",
      "67\n",
      "68\n",
      "69\n",
      "70\n",
      "71\n",
      "72\n",
      "73\n",
      "74\n",
      "75\n",
      "76\n",
      "77\n",
      "78\n",
      "79\n",
      "80\n",
      "81\n",
      "82\n",
      "83\n",
      "84\n",
      "85\n",
      "86\n",
      "87\n",
      "88\n",
      "89\n",
      "90\n",
      "91\n",
      "92\n",
      "93\n",
      "94\n",
      "95\n",
      "96\n",
      "97\n",
      "98\n",
      "99\n",
      "100\n",
      "101\n",
      "102\n",
      "103\n",
      "104\n",
      "105\n",
      "106\n",
      "107\n",
      "108\n",
      "109\n",
      "110\n",
      "111\n",
      "Saved model.\n"
     ]
    }
   ],
   "source": [
    "torch.autograd.set_detect_anomaly(False)\n",
    "\n",
    "steps = 0\n",
    "episodes = 0\n",
    "avg_score = 0\n",
    "\n",
    "# run the agent, and save the model on process exit\n",
    "try:\n",
    "    init_population()\n",
    "    while True:\n",
    "        episode_steps, episode_avg_loss = run_episode(steps)\n",
    "\n",
    "        steps += episode_steps\n",
    "        episodes += 1\n",
    "        avg_score = (avg_score * episodes + episode_steps) / (episodes + 1)\n",
    "\n",
    "        print(f'Episode: {episodes:04d}. Loss: {episode_avg_loss:.5f}. Score: {episode_steps:03d}. Average score: {avg_score:.2f}.')\n",
    "\n",
    "except KeyboardInterrupt:\n",
    "    pass\n",
    "finally:\n",
    "    torch.save(Q.state_dict(), 'cartpole.dqn.pth')\n",
    "    print('Saved model.')"
   ]
  },
  {
   "cell_type": "code",
   "execution_count": null,
   "metadata": {},
   "outputs": [],
   "source": []
  },
  {
   "cell_type": "code",
   "execution_count": null,
   "metadata": {},
   "outputs": [],
   "source": []
  }
 ],
 "metadata": {
  "kernelspec": {
   "display_name": "venv",
   "language": "python",
   "name": "python3"
  },
  "language_info": {
   "codemirror_mode": {
    "name": "ipython",
    "version": 3
   },
   "file_extension": ".py",
   "mimetype": "text/x-python",
   "name": "python",
   "nbconvert_exporter": "python",
   "pygments_lexer": "ipython3",
   "version": "3.11.5"
  }
 },
 "nbformat": 4,
 "nbformat_minor": 2
}
